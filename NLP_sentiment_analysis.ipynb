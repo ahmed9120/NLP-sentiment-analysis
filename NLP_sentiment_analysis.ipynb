{
  "nbformat": 4,
  "nbformat_minor": 0,
  "metadata": {
    "colab": {
      "provenance": [],
      "gpuType": "T4"
    },
    "kernelspec": {
      "name": "python3",
      "display_name": "Python 3"
    },
    "language_info": {
      "name": "python"
    },
    "accelerator": "GPU"
  },
  "cells": [
    {
      "cell_type": "code",
      "execution_count": 2,
      "metadata": {
        "id": "v6oIu5GYqYqW"
      },
      "outputs": [],
      "source": [
        "import kagglehub\n",
        "import os\n",
        "import pandas as pd\n",
        "import numpy as np\n",
        "import tensorflow as tf\n",
        "from tensorflow.keras.preprocessing.text import Tokenizer\n",
        "from tensorflow.keras.preprocessing.sequence import pad_sequences\n",
        "from tensorflow.keras.models import Sequential\n",
        "from tensorflow.keras.layers import Embedding, LSTM, Dense, Dropout"
      ]
    },
    {
      "cell_type": "code",
      "source": [
        "# Download dataset\n",
        "path = kagglehub.dataset_download(\"lakshmi25npathi/imdb-dataset-of-50k-movie-reviews\")\n",
        "\n",
        "# Load dataset\n",
        "csv_path = os.path.join(path, \"IMDB Dataset.csv\")\n",
        "df = pd.read_csv(csv_path)"
      ],
      "metadata": {
        "colab": {
          "base_uri": "https://localhost:8080/"
        },
        "id": "a-lpyztoqcao",
        "outputId": "30d471a7-9768-4e31-bc38-e55c1482a794"
      },
      "execution_count": 3,
      "outputs": [
        {
          "output_type": "stream",
          "name": "stdout",
          "text": [
            "Downloading from https://www.kaggle.com/api/v1/datasets/download/lakshmi25npathi/imdb-dataset-of-50k-movie-reviews?dataset_version_number=1...\n"
          ]
        },
        {
          "output_type": "stream",
          "name": "stderr",
          "text": [
            "100%|██████████| 25.7M/25.7M [00:02<00:00, 12.1MB/s]"
          ]
        },
        {
          "output_type": "stream",
          "name": "stdout",
          "text": [
            "Extracting files...\n"
          ]
        },
        {
          "output_type": "stream",
          "name": "stderr",
          "text": [
            "\n"
          ]
        }
      ]
    },
    {
      "cell_type": "code",
      "source": [
        "# Encode labels\n",
        "label_map = {'positive': 1, 'negative': 0}\n",
        "df['sentiment'] = df['sentiment'].map(label_map)\n",
        "\n",
        "# Preprocess text\n",
        "tokenizer = Tokenizer(num_words=10000, oov_token=\"<OOV>\")\n",
        "tokenizer.fit_on_texts(df['review'])\n",
        "sequences = tokenizer.texts_to_sequences(df['review'])\n",
        "padded_sequences = pad_sequences(sequences, maxlen=200, padding='post', truncating='post')"
      ],
      "metadata": {
        "id": "1JyKpyD7qmBw"
      },
      "execution_count": 5,
      "outputs": []
    },
    {
      "cell_type": "code",
      "source": [
        "# Split data\n",
        "train_size = int(len(df) * 0.8)\n",
        "x_train, x_test = padded_sequences[:train_size], padded_sequences[train_size:]\n",
        "y_train, y_test = df['sentiment'][:train_size], df['sentiment'][train_size:]"
      ],
      "metadata": {
        "id": "6Y4IM2xuqmmQ"
      },
      "execution_count": 6,
      "outputs": []
    },
    {
      "cell_type": "code",
      "source": [
        "# Build model\n",
        "model = Sequential([\n",
        "    Embedding(input_dim=10000, output_dim=64, input_length=200),\n",
        "    LSTM(64, return_sequences=True),\n",
        "    LSTM(32),\n",
        "    Dropout(0.5),\n",
        "    Dense(32, activation='relu'),\n",
        "    Dense(1, activation='sigmoid')\n",
        "])\n",
        "\n",
        "\n",
        "model.compile(loss='binary_crossentropy', optimizer='adam', metrics=['accuracy'])"
      ],
      "metadata": {
        "colab": {
          "base_uri": "https://localhost:8080/"
        },
        "id": "sR78rpOJqpSY",
        "outputId": "195427f2-a891-43da-9cec-bfd89b35d7df"
      },
      "execution_count": 7,
      "outputs": [
        {
          "output_type": "stream",
          "name": "stderr",
          "text": [
            "/usr/local/lib/python3.11/dist-packages/keras/src/layers/core/embedding.py:90: UserWarning: Argument `input_length` is deprecated. Just remove it.\n",
            "  warnings.warn(\n"
          ]
        }
      ]
    },
    {
      "cell_type": "code",
      "source": [
        "# Train model\n",
        "history = model.fit(x_train, y_train, epochs=5, batch_size=64, validation_data=(x_test, y_test))"
      ],
      "metadata": {
        "colab": {
          "base_uri": "https://localhost:8080/"
        },
        "id": "QvCMrXQwqseZ",
        "outputId": "c38e88f2-3461-4fa5-c996-1e400e3b6247"
      },
      "execution_count": 8,
      "outputs": [
        {
          "output_type": "stream",
          "name": "stdout",
          "text": [
            "Epoch 1/5\n",
            "\u001b[1m625/625\u001b[0m \u001b[32m━━━━━━━━━━━━━━━━━━━━\u001b[0m\u001b[37m\u001b[0m \u001b[1m18s\u001b[0m 18ms/step - accuracy: 0.5280 - loss: 0.6889 - val_accuracy: 0.5007 - val_loss: 0.6915\n",
            "Epoch 2/5\n",
            "\u001b[1m625/625\u001b[0m \u001b[32m━━━━━━━━━━━━━━━━━━━━\u001b[0m\u001b[37m\u001b[0m \u001b[1m10s\u001b[0m 17ms/step - accuracy: 0.5046 - loss: 0.6928 - val_accuracy: 0.5451 - val_loss: 0.6875\n",
            "Epoch 3/5\n",
            "\u001b[1m625/625\u001b[0m \u001b[32m━━━━━━━━━━━━━━━━━━━━\u001b[0m\u001b[37m\u001b[0m \u001b[1m11s\u001b[0m 17ms/step - accuracy: 0.5197 - loss: 0.6914 - val_accuracy: 0.5511 - val_loss: 0.6852\n",
            "Epoch 4/5\n",
            "\u001b[1m625/625\u001b[0m \u001b[32m━━━━━━━━━━━━━━━━━━━━\u001b[0m\u001b[37m\u001b[0m \u001b[1m21s\u001b[0m 17ms/step - accuracy: 0.5812 - loss: 0.6644 - val_accuracy: 0.7721 - val_loss: 0.5287\n",
            "Epoch 5/5\n",
            "\u001b[1m625/625\u001b[0m \u001b[32m━━━━━━━━━━━━━━━━━━━━\u001b[0m\u001b[37m\u001b[0m \u001b[1m21s\u001b[0m 18ms/step - accuracy: 0.7643 - loss: 0.5200 - val_accuracy: 0.8454 - val_loss: 0.3660\n"
          ]
        }
      ]
    },
    {
      "cell_type": "code",
      "source": [
        "# Evaluate model\n",
        "loss, accuracy = model.evaluate(x_test, y_test)\n",
        "print(f\"Test Accuracy: {accuracy * 100:.2f}%\")\n",
        "print(f\"Test Loss: {loss:.4f}\")"
      ],
      "metadata": {
        "colab": {
          "base_uri": "https://localhost:8080/"
        },
        "id": "sh3DUrNRqwOp",
        "outputId": "bd1479c3-add5-44f5-de04-6d530c451dbb"
      },
      "execution_count": 9,
      "outputs": [
        {
          "output_type": "stream",
          "name": "stdout",
          "text": [
            "\u001b[1m313/313\u001b[0m \u001b[32m━━━━━━━━━━━━━━━━━━━━\u001b[0m\u001b[37m\u001b[0m \u001b[1m3s\u001b[0m 9ms/step - accuracy: 0.8471 - loss: 0.3634\n",
            "Test Accuracy: 84.54%\n",
            "Test Loss: 0.3660\n"
          ]
        }
      ]
    },
    {
      "cell_type": "code",
      "source": [
        "# Test with custom sentence\n",
        "def predict_sentiment(sentence):\n",
        "    sequence = tokenizer.texts_to_sequences([sentence])\n",
        "    padded_sequence = pad_sequences(sequence, maxlen=200, padding='post', truncating='post')\n",
        "    prediction = model.predict(padded_sequence)[0][0]\n",
        "    sentiment = \"Positive\" if prediction > 0.5 else \"Negative\"\n",
        "    print(f\"Predicted Sentiment: {sentiment} ({prediction:.4f})\")\n",
        "\n",
        "\n",
        "\n",
        "\n",
        "######\n",
        "predict_sentiment(\"The film was a complete disaster, I regret watching it.\")\n",
        "# Expected: Negative\n",
        "predict_sentiment(\"why did they not follow the book i am really sad and disappointed i was so looking forward to seeing this movie however if you have read the book maybe recently it might be very difficult to remain objective my wife had not read the book and she loved the movie br br reasons for the disappointment are 1 <OOV> involvement gone with the wind such a shame there is a very small part at the start where the <OOV> is created but even that does not stick to the facts why not the fact that <OOV> father was burned with the first <OOV> brand which is how <OOV> got involved would have been a perfect start to the movie 2 story line between the deceased pope and <OOV> completely gone this completely <OOV> up the motive for the stealing of the <OOV> 3 story line between <OOV> and <OOV> <OOV> completely non existent br br all in all too <OOV> storyline and cannot understand that dan brown allowed them to put his name against it maybe i should <OOV> this film in 10 years time when i cannot remember the excellent book anymore fat chance on forgetting the book\")\n",
        "# Expected: Negative\n",
        "predict_sentiment(\"Recap: Something mysterious transmits radio signals from Antarctica. Julian Rome, a former SETI worker, is brought in. But the plot has too many holes—Washington somehow knows too much, the alien pod transmits in English, and the ending is too open-ended. The movie is a little entertaining, but too much effort is needed to fill in the plot gaps. 3/10.\")\n",
        "# Expected: Negative\n",
        "#######\n",
        "predict_sentiment(\"This movie was absolutely fantastic, I loved every moment!\")\n",
        "# Expected: Positive\n",
        "predict_sentiment(\"Watched this last night and was amazed by the heartfelt story, excellent character development, and good vibes from the acting. The story follows an ordinary man who takes dance lessons and learns about himself and others. The film is lighthearted and funny, yet dignified. Highly recommended for families and teens.\")\n",
        "# Expected: Positive\n",
        "predict_sentiment(\"this is a very beautiful and almost <OOV> film there is hardly any dialogue in it apart from the narration and the scenery and music compliment each other perfectly i didn't at first connect the red hair of the girl and the fox until it was pointed out to me by a friend who also has red hair it is almost an old fashioned type of children's films saying that children nowadays prefer animations like <OOV> or toy story etc but i feel that young people should be introduced more to the beauty and wonder of nature which this film certainly does maybe not the best ever film of its type but certainly an excellent and relaxing view for all ages not just children\")\n",
        "# Expected: Positive\n",
        "#####\n"
      ],
      "metadata": {
        "colab": {
          "base_uri": "https://localhost:8080/"
        },
        "id": "-JnaQmmBq1pR",
        "outputId": "930fc41e-fc99-43ec-d866-f6eb610d3f6b"
      },
      "execution_count": 21,
      "outputs": [
        {
          "output_type": "stream",
          "name": "stdout",
          "text": [
            "\u001b[1m1/1\u001b[0m \u001b[32m━━━━━━━━━━━━━━━━━━━━\u001b[0m\u001b[37m\u001b[0m \u001b[1m0s\u001b[0m 34ms/step\n",
            "Predicted Sentiment: Negative (0.1419)\n",
            "\u001b[1m1/1\u001b[0m \u001b[32m━━━━━━━━━━━━━━━━━━━━\u001b[0m\u001b[37m\u001b[0m \u001b[1m0s\u001b[0m 33ms/step\n",
            "Predicted Sentiment: Negative (0.3636)\n",
            "\u001b[1m1/1\u001b[0m \u001b[32m━━━━━━━━━━━━━━━━━━━━\u001b[0m\u001b[37m\u001b[0m \u001b[1m0s\u001b[0m 31ms/step\n",
            "Predicted Sentiment: Negative (0.0654)\n",
            "\u001b[1m1/1\u001b[0m \u001b[32m━━━━━━━━━━━━━━━━━━━━\u001b[0m\u001b[37m\u001b[0m \u001b[1m0s\u001b[0m 31ms/step\n",
            "Predicted Sentiment: Positive (0.7627)\n",
            "\u001b[1m1/1\u001b[0m \u001b[32m━━━━━━━━━━━━━━━━━━━━\u001b[0m\u001b[37m\u001b[0m \u001b[1m0s\u001b[0m 31ms/step\n",
            "Predicted Sentiment: Positive (0.9434)\n",
            "\u001b[1m1/1\u001b[0m \u001b[32m━━━━━━━━━━━━━━━━━━━━\u001b[0m\u001b[37m\u001b[0m \u001b[1m0s\u001b[0m 65ms/step\n",
            "Predicted Sentiment: Positive (0.9436)\n"
          ]
        }
      ]
    }
  ]
}